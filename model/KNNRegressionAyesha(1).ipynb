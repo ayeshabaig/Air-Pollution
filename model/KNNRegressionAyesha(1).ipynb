{
 "cells": [
  {
   "cell_type": "markdown",
   "metadata": {},
   "source": [
    "## KNN Regression Training using Mean Squared Error\n",
    "\n",
    "Predicting the unamed columns \n",
    "\n"
   ]
  },
  {
   "cell_type": "code",
   "execution_count": 14,
   "metadata": {},
   "outputs": [],
   "source": [
    "import pandas as pd\n",
    "import numpy as np\n",
    "from shutil import copyfile\n",
    "import os"
   ]
  },
  {
   "cell_type": "code",
   "execution_count": 15,
   "metadata": {},
   "outputs": [
    {
     "data": {
      "text/plain": [
       "'./bigtable.csv'"
      ]
     },
     "execution_count": 15,
     "metadata": {},
     "output_type": "execute_result"
    }
   ],
   "source": [
    "src = \"../data/bigtable.csv\"\n",
    "dst = \"./bigtable.csv\"\n",
    "if os.path.exists(dst):\n",
    "    os.remove(dst)\n",
    "copyfile(src, dst)"
   ]
  },
  {
   "cell_type": "code",
   "execution_count": 16,
   "metadata": {},
   "outputs": [
    {
     "data": {
      "text/html": [
       "<div>\n",
       "<style scoped>\n",
       "    .dataframe tbody tr th:only-of-type {\n",
       "        vertical-align: middle;\n",
       "    }\n",
       "\n",
       "    .dataframe tbody tr th {\n",
       "        vertical-align: top;\n",
       "    }\n",
       "\n",
       "    .dataframe thead th {\n",
       "        text-align: right;\n",
       "    }\n",
       "</style>\n",
       "<table border=\"1\" class=\"dataframe\">\n",
       "  <thead>\n",
       "    <tr style=\"text-align: right;\">\n",
       "      <th></th>\n",
       "      <th>Unnamed: 0</th>\n",
       "      <th>datetime</th>\n",
       "      <th>pm25</th>\n",
       "      <th>type</th>\n",
       "      <th>sensor</th>\n",
       "      <th>station_id</th>\n",
       "      <th>x</th>\n",
       "      <th>y</th>\n",
       "      <th>population</th>\n",
       "      <th>dist-mroads</th>\n",
       "      <th>...</th>\n",
       "      <th>date</th>\n",
       "      <th>24hr</th>\n",
       "      <th>datehour</th>\n",
       "      <th>date.1</th>\n",
       "      <th>TEMP</th>\n",
       "      <th>WIND</th>\n",
       "      <th>DEW</th>\n",
       "      <th>SKY</th>\n",
       "      <th>VIS</th>\n",
       "      <th>ATM</th>\n",
       "    </tr>\n",
       "  </thead>\n",
       "  <tbody>\n",
       "    <tr>\n",
       "      <td>152619</td>\n",
       "      <td>1113424</td>\n",
       "      <td>2019-10-27 18:00:00 UTC</td>\n",
       "      <td>5.0</td>\n",
       "      <td>AirNow</td>\n",
       "      <td>ND</td>\n",
       "      <td>[{name=US EPA AirNow, url=http://www.airnow.go...</td>\n",
       "      <td>39.11440</td>\n",
       "      <td>-77.10690</td>\n",
       "      <td>0.367146</td>\n",
       "      <td>0.469</td>\n",
       "      <td>...</td>\n",
       "      <td>2019-10-27</td>\n",
       "      <td>06:00:00</td>\n",
       "      <td>2019-10-27-18</td>\n",
       "      <td>2019-10-27T18:00:00</td>\n",
       "      <td>256.1</td>\n",
       "      <td>46.0</td>\n",
       "      <td>200.1</td>\n",
       "      <td>22000.0</td>\n",
       "      <td>16000.0</td>\n",
       "      <td>10080.1</td>\n",
       "    </tr>\n",
       "    <tr>\n",
       "      <td>152620</td>\n",
       "      <td>1113429</td>\n",
       "      <td>2019-10-27 18:00:00 UTC</td>\n",
       "      <td>2.0</td>\n",
       "      <td>AirNow</td>\n",
       "      <td>ND</td>\n",
       "      <td>[{name=US EPA AirNow, url=http://www.airnow.go...</td>\n",
       "      <td>39.05530</td>\n",
       "      <td>-76.87830</td>\n",
       "      <td>0.367146</td>\n",
       "      <td>0.469</td>\n",
       "      <td>...</td>\n",
       "      <td>2019-10-27</td>\n",
       "      <td>06:00:00</td>\n",
       "      <td>2019-10-27-18</td>\n",
       "      <td>2019-10-27T18:00:00</td>\n",
       "      <td>256.1</td>\n",
       "      <td>46.0</td>\n",
       "      <td>200.1</td>\n",
       "      <td>22000.0</td>\n",
       "      <td>16000.0</td>\n",
       "      <td>10080.1</td>\n",
       "    </tr>\n",
       "    <tr>\n",
       "      <td>152621</td>\n",
       "      <td>1113432</td>\n",
       "      <td>2019-10-27 18:00:00 UTC</td>\n",
       "      <td>7.0</td>\n",
       "      <td>AirNow</td>\n",
       "      <td>ND</td>\n",
       "      <td>[{name=US EPA AirNow, url=http://www.airnow.go...</td>\n",
       "      <td>38.87516</td>\n",
       "      <td>-77.01282</td>\n",
       "      <td>48.505119</td>\n",
       "      <td>0.000</td>\n",
       "      <td>...</td>\n",
       "      <td>2019-10-27</td>\n",
       "      <td>06:00:00</td>\n",
       "      <td>2019-10-27-18</td>\n",
       "      <td>2019-10-27T18:00:00</td>\n",
       "      <td>256.1</td>\n",
       "      <td>46.0</td>\n",
       "      <td>200.1</td>\n",
       "      <td>22000.0</td>\n",
       "      <td>16000.0</td>\n",
       "      <td>10080.1</td>\n",
       "    </tr>\n",
       "    <tr>\n",
       "      <td>152622</td>\n",
       "      <td>1116925</td>\n",
       "      <td>2019-10-27 22:00:00 UTC</td>\n",
       "      <td>0.9</td>\n",
       "      <td>AirNow</td>\n",
       "      <td>ND</td>\n",
       "      <td>[{name=US EPA AirNow, url=http://www.airnow.go...</td>\n",
       "      <td>38.77170</td>\n",
       "      <td>-77.10890</td>\n",
       "      <td>3.400232</td>\n",
       "      <td>0.118</td>\n",
       "      <td>...</td>\n",
       "      <td>2019-10-27</td>\n",
       "      <td>10:00:00</td>\n",
       "      <td>2019-10-27-22</td>\n",
       "      <td>2019-10-27T22:52:00</td>\n",
       "      <td>217.5</td>\n",
       "      <td>46.0</td>\n",
       "      <td>128.5</td>\n",
       "      <td>22000.0</td>\n",
       "      <td>16093.0</td>\n",
       "      <td>10116.5</td>\n",
       "    </tr>\n",
       "    <tr>\n",
       "      <td>152623</td>\n",
       "      <td>1117029</td>\n",
       "      <td>2019-10-27 08:00:00 UTC</td>\n",
       "      <td>5.6</td>\n",
       "      <td>AirNow</td>\n",
       "      <td>ND</td>\n",
       "      <td>[{name=US EPA AirNow, url=http://www.airnow.go...</td>\n",
       "      <td>38.77170</td>\n",
       "      <td>-77.10890</td>\n",
       "      <td>3.400232</td>\n",
       "      <td>0.118</td>\n",
       "      <td>...</td>\n",
       "      <td>2019-10-27</td>\n",
       "      <td>08:00:00</td>\n",
       "      <td>2019-10-27-08</td>\n",
       "      <td>2019-10-27T08:14:00</td>\n",
       "      <td>167.5</td>\n",
       "      <td>15.0</td>\n",
       "      <td>161.5</td>\n",
       "      <td>366.0</td>\n",
       "      <td>8047.0</td>\n",
       "      <td>99999.9</td>\n",
       "    </tr>\n",
       "  </tbody>\n",
       "</table>\n",
       "<p>5 rows × 30 columns</p>\n",
       "</div>"
      ],
      "text/plain": [
       "        Unnamed: 0                 datetime  pm25    type sensor  \\\n",
       "152619     1113424  2019-10-27 18:00:00 UTC   5.0  AirNow     ND   \n",
       "152620     1113429  2019-10-27 18:00:00 UTC   2.0  AirNow     ND   \n",
       "152621     1113432  2019-10-27 18:00:00 UTC   7.0  AirNow     ND   \n",
       "152622     1116925  2019-10-27 22:00:00 UTC   0.9  AirNow     ND   \n",
       "152623     1117029  2019-10-27 08:00:00 UTC   5.6  AirNow     ND   \n",
       "\n",
       "                                               station_id         x         y  \\\n",
       "152619  [{name=US EPA AirNow, url=http://www.airnow.go...  39.11440 -77.10690   \n",
       "152620  [{name=US EPA AirNow, url=http://www.airnow.go...  39.05530 -76.87830   \n",
       "152621  [{name=US EPA AirNow, url=http://www.airnow.go...  38.87516 -77.01282   \n",
       "152622  [{name=US EPA AirNow, url=http://www.airnow.go...  38.77170 -77.10890   \n",
       "152623  [{name=US EPA AirNow, url=http://www.airnow.go...  38.77170 -77.10890   \n",
       "\n",
       "        population  dist-mroads  ...        date      24hr       datehour  \\\n",
       "152619    0.367146        0.469  ...  2019-10-27  06:00:00  2019-10-27-18   \n",
       "152620    0.367146        0.469  ...  2019-10-27  06:00:00  2019-10-27-18   \n",
       "152621   48.505119        0.000  ...  2019-10-27  06:00:00  2019-10-27-18   \n",
       "152622    3.400232        0.118  ...  2019-10-27  10:00:00  2019-10-27-22   \n",
       "152623    3.400232        0.118  ...  2019-10-27  08:00:00  2019-10-27-08   \n",
       "\n",
       "                     date.1   TEMP  WIND    DEW      SKY      VIS      ATM  \n",
       "152619  2019-10-27T18:00:00  256.1  46.0  200.1  22000.0  16000.0  10080.1  \n",
       "152620  2019-10-27T18:00:00  256.1  46.0  200.1  22000.0  16000.0  10080.1  \n",
       "152621  2019-10-27T18:00:00  256.1  46.0  200.1  22000.0  16000.0  10080.1  \n",
       "152622  2019-10-27T22:52:00  217.5  46.0  128.5  22000.0  16093.0  10116.5  \n",
       "152623  2019-10-27T08:14:00  167.5  15.0  161.5    366.0   8047.0  99999.9  \n",
       "\n",
       "[5 rows x 30 columns]"
      ]
     },
     "execution_count": 16,
     "metadata": {},
     "output_type": "execute_result"
    }
   ],
   "source": [
    "df = pd.read_csv(dst)\n",
    "df.tail()"
   ]
  },
  {
   "cell_type": "code",
   "execution_count": 17,
   "metadata": {},
   "outputs": [],
   "source": [
    "from pandas.plotting import scatter_matrix\n",
    "#scatter_matrix(df, alpha=0.2, figsize=(6, 6), diagonal='kde')"
   ]
  },
  {
   "cell_type": "markdown",
   "metadata": {},
   "source": [
    "This will give the dimension of 2-d Array "
   ]
  },
  {
   "cell_type": "code",
   "execution_count": 28,
   "metadata": {},
   "outputs": [
    {
     "data": {
      "text/plain": [
       "(140108, 14)"
      ]
     },
     "execution_count": 28,
     "metadata": {},
     "output_type": "execute_result"
    }
   ],
   "source": [
    "X.shape"
   ]
  },
  {
   "cell_type": "code",
   "execution_count": 29,
   "metadata": {},
   "outputs": [],
   "source": [
    "from numpy import set_printoptions\n",
    "df2=df.drop([\"datetime\", \"type\", \"sensor\", \"station_id\", \"x\", \"y\", \"date\", \"date.1\", \"24hr\", \"datehour\"], axis=1)"
   ]
  },
  {
   "cell_type": "code",
   "execution_count": 30,
   "metadata": {},
   "outputs": [],
   "source": [
    "df2 = df2.dropna()"
   ]
  },
  {
   "cell_type": "code",
   "execution_count": 31,
   "metadata": {},
   "outputs": [
    {
     "data": {
      "text/html": [
       "<div>\n",
       "<style scoped>\n",
       "    .dataframe tbody tr th:only-of-type {\n",
       "        vertical-align: middle;\n",
       "    }\n",
       "\n",
       "    .dataframe tbody tr th {\n",
       "        vertical-align: top;\n",
       "    }\n",
       "\n",
       "    .dataframe thead th {\n",
       "        text-align: right;\n",
       "    }\n",
       "</style>\n",
       "<table border=\"1\" class=\"dataframe\">\n",
       "  <thead>\n",
       "    <tr style=\"text-align: right;\">\n",
       "      <th></th>\n",
       "      <th>Unnamed: 0</th>\n",
       "      <th>pm25</th>\n",
       "      <th>population</th>\n",
       "      <th>dist-mroads</th>\n",
       "      <th>dist-setl</th>\n",
       "      <th>dist-coast</th>\n",
       "      <th>dist-forest</th>\n",
       "      <th>slope</th>\n",
       "      <th>elevation</th>\n",
       "      <th>dayofweek</th>\n",
       "      <th>sin_day</th>\n",
       "      <th>cos_day</th>\n",
       "      <th>sin_year</th>\n",
       "      <th>cos_year</th>\n",
       "      <th>TEMP</th>\n",
       "      <th>WIND</th>\n",
       "      <th>DEW</th>\n",
       "      <th>SKY</th>\n",
       "      <th>VIS</th>\n",
       "      <th>ATM</th>\n",
       "    </tr>\n",
       "  </thead>\n",
       "  <tbody>\n",
       "    <tr>\n",
       "      <td>0</td>\n",
       "      <td>0</td>\n",
       "      <td>52.33</td>\n",
       "      <td>54.04969</td>\n",
       "      <td>0.072</td>\n",
       "      <td>-1.541</td>\n",
       "      <td>2.792</td>\n",
       "      <td>1.596</td>\n",
       "      <td>1.0</td>\n",
       "      <td>29.0</td>\n",
       "      <td>2</td>\n",
       "      <td>-0.707107</td>\n",
       "      <td>-0.707107</td>\n",
       "      <td>0.806480</td>\n",
       "      <td>-0.591261</td>\n",
       "      <td>211.1</td>\n",
       "      <td>36.0</td>\n",
       "      <td>161.1</td>\n",
       "      <td>99999.0</td>\n",
       "      <td>16000.0</td>\n",
       "      <td>10218.1</td>\n",
       "    </tr>\n",
       "    <tr>\n",
       "      <td>1</td>\n",
       "      <td>1</td>\n",
       "      <td>0.17</td>\n",
       "      <td>54.04969</td>\n",
       "      <td>0.072</td>\n",
       "      <td>-1.541</td>\n",
       "      <td>2.792</td>\n",
       "      <td>1.596</td>\n",
       "      <td>1.0</td>\n",
       "      <td>29.0</td>\n",
       "      <td>2</td>\n",
       "      <td>-0.866025</td>\n",
       "      <td>-0.500000</td>\n",
       "      <td>0.806480</td>\n",
       "      <td>-0.591261</td>\n",
       "      <td>228.5</td>\n",
       "      <td>41.0</td>\n",
       "      <td>167.5</td>\n",
       "      <td>762.0</td>\n",
       "      <td>16093.0</td>\n",
       "      <td>10213.5</td>\n",
       "    </tr>\n",
       "    <tr>\n",
       "      <td>2</td>\n",
       "      <td>2</td>\n",
       "      <td>52.33</td>\n",
       "      <td>54.04969</td>\n",
       "      <td>0.072</td>\n",
       "      <td>-1.541</td>\n",
       "      <td>2.792</td>\n",
       "      <td>1.596</td>\n",
       "      <td>1.0</td>\n",
       "      <td>29.0</td>\n",
       "      <td>2</td>\n",
       "      <td>-0.707107</td>\n",
       "      <td>-0.707107</td>\n",
       "      <td>0.806480</td>\n",
       "      <td>-0.591261</td>\n",
       "      <td>211.1</td>\n",
       "      <td>36.0</td>\n",
       "      <td>161.1</td>\n",
       "      <td>99999.0</td>\n",
       "      <td>16000.0</td>\n",
       "      <td>10218.1</td>\n",
       "    </tr>\n",
       "    <tr>\n",
       "      <td>3</td>\n",
       "      <td>3</td>\n",
       "      <td>0.17</td>\n",
       "      <td>54.04969</td>\n",
       "      <td>0.072</td>\n",
       "      <td>-1.541</td>\n",
       "      <td>2.792</td>\n",
       "      <td>1.596</td>\n",
       "      <td>1.0</td>\n",
       "      <td>29.0</td>\n",
       "      <td>2</td>\n",
       "      <td>-0.866025</td>\n",
       "      <td>-0.500000</td>\n",
       "      <td>0.806480</td>\n",
       "      <td>-0.591261</td>\n",
       "      <td>228.5</td>\n",
       "      <td>41.0</td>\n",
       "      <td>167.5</td>\n",
       "      <td>762.0</td>\n",
       "      <td>16093.0</td>\n",
       "      <td>10213.5</td>\n",
       "    </tr>\n",
       "    <tr>\n",
       "      <td>25</td>\n",
       "      <td>25</td>\n",
       "      <td>0.33</td>\n",
       "      <td>54.04969</td>\n",
       "      <td>0.072</td>\n",
       "      <td>-1.541</td>\n",
       "      <td>2.792</td>\n",
       "      <td>1.596</td>\n",
       "      <td>1.0</td>\n",
       "      <td>29.0</td>\n",
       "      <td>3</td>\n",
       "      <td>-0.500000</td>\n",
       "      <td>-0.866025</td>\n",
       "      <td>0.796183</td>\n",
       "      <td>-0.605056</td>\n",
       "      <td>200.5</td>\n",
       "      <td>36.0</td>\n",
       "      <td>167.5</td>\n",
       "      <td>396.0</td>\n",
       "      <td>16093.0</td>\n",
       "      <td>10213.5</td>\n",
       "    </tr>\n",
       "  </tbody>\n",
       "</table>\n",
       "</div>"
      ],
      "text/plain": [
       "    Unnamed: 0   pm25  population  dist-mroads  dist-setl  dist-coast  \\\n",
       "0            0  52.33    54.04969        0.072     -1.541       2.792   \n",
       "1            1   0.17    54.04969        0.072     -1.541       2.792   \n",
       "2            2  52.33    54.04969        0.072     -1.541       2.792   \n",
       "3            3   0.17    54.04969        0.072     -1.541       2.792   \n",
       "25          25   0.33    54.04969        0.072     -1.541       2.792   \n",
       "\n",
       "    dist-forest  slope  elevation  dayofweek   sin_day   cos_day  sin_year  \\\n",
       "0         1.596    1.0       29.0          2 -0.707107 -0.707107  0.806480   \n",
       "1         1.596    1.0       29.0          2 -0.866025 -0.500000  0.806480   \n",
       "2         1.596    1.0       29.0          2 -0.707107 -0.707107  0.806480   \n",
       "3         1.596    1.0       29.0          2 -0.866025 -0.500000  0.806480   \n",
       "25        1.596    1.0       29.0          3 -0.500000 -0.866025  0.796183   \n",
       "\n",
       "    cos_year   TEMP  WIND    DEW      SKY      VIS      ATM  \n",
       "0  -0.591261  211.1  36.0  161.1  99999.0  16000.0  10218.1  \n",
       "1  -0.591261  228.5  41.0  167.5    762.0  16093.0  10213.5  \n",
       "2  -0.591261  211.1  36.0  161.1  99999.0  16000.0  10218.1  \n",
       "3  -0.591261  228.5  41.0  167.5    762.0  16093.0  10213.5  \n",
       "25 -0.605056  200.5  36.0  167.5    396.0  16093.0  10213.5  "
      ]
     },
     "execution_count": 31,
     "metadata": {},
     "output_type": "execute_result"
    }
   ],
   "source": [
    "df2.head()"
   ]
  },
  {
   "cell_type": "code",
   "execution_count": 22,
   "metadata": {},
   "outputs": [
    {
     "name": "stdout",
     "output_type": "stream",
     "text": [
      "140108\n",
      "20\n"
     ]
    }
   ],
   "source": [
    "from sklearn.neighbors import KNeighborsRegressor\n",
    "\n",
    "array = df2.values\n",
    "print(len(array))\n",
    "print(len(array[0]))\n",
    "\n",
    "X = array[:,2:16]\n",
    "Y = array[:,1]\n",
    "\n",
    "neigh = KNeighborsRegressor(n_neighbors=2)\n",
    "neigh.fit(X, Y)\n",
    "\n",
    "Y_target = neigh.predict(X)"
   ]
  },
  {
   "cell_type": "code",
   "execution_count": 23,
   "metadata": {},
   "outputs": [
    {
     "data": {
      "text/plain": [
       "array([42.85,  0.34, 42.85, ...,  4.5 ,  5.35,  6.1 ])"
      ]
     },
     "execution_count": 23,
     "metadata": {},
     "output_type": "execute_result"
    }
   ],
   "source": [
    "Y_target"
   ]
  },
  {
   "cell_type": "code",
   "execution_count": 32,
   "metadata": {},
   "outputs": [
    {
     "data": {
      "text/plain": [
       "3.2599724177063414"
      ]
     },
     "execution_count": 32,
     "metadata": {},
     "output_type": "execute_result"
    }
   ],
   "source": [
    "np.mean((Y_target - Y)**2)\n",
    "\n",
    "# mse\n",
    "#np.mean always computes an arithmetic mean, and has some additional options for input and output (e.g. what datatypes to use, where to place the result)."
   ]
  },
  {
   "cell_type": "code",
   "execution_count": null,
   "metadata": {},
   "outputs": [],
   "source": []
  }
 ],
 "metadata": {
  "kernelspec": {
   "display_name": "Python 3",
   "language": "python",
   "name": "python3"
  },
  "language_info": {
   "codemirror_mode": {
    "name": "ipython",
    "version": 3
   },
   "file_extension": ".py",
   "mimetype": "text/x-python",
   "name": "python",
   "nbconvert_exporter": "python",
   "pygments_lexer": "ipython3",
   "version": "3.7.4"
  }
 },
 "nbformat": 4,
 "nbformat_minor": 2
}
