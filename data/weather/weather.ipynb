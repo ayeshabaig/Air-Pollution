{
 "cells": [
  {
   "cell_type": "code",
   "execution_count": 2,
   "metadata": {},
   "outputs": [],
   "source": [
    "# Import Libraries and Setup Environment\n",
    "import numpy as np\n",
    "import pandas as pd\n",
    "\n",
    "pd.set_option('display.max_columns', None)\n",
    "\n",
    "# Extract Data from CSV\n",
    "df = pd.read_csv(filepath_or_buffer='weather_original.csv', sep=',', encoding='utf-8', header=0, usecols=[1,10,11,12,13,14,15], low_memory=False)\n",
    "df = df[['DATE','TMP','WND','DEW','CIG','VIS','SLP']]\n",
    "df = df.rename(columns={\"TMP\":\"Temperature\", \"WND\":\"Wind\", \"DEW\":\"Dew\", \"CIG\":\"Sky\", \"VIS\":\"Visibility\", \"SLP\":\"ATM\"})\n",
    "df.head()\n",
    "\n",
    "# Transform Data\n",
    "\n",
    "# Load\n",
    "df.to_csv('weather.csv', index=False)\n"
   ]
  },
  {
   "cell_type": "code",
   "execution_count": null,
   "metadata": {},
   "outputs": [],
   "source": []
  }
 ],
 "metadata": {
  "kernelspec": {
   "display_name": "Python 3",
   "language": "python",
   "name": "python3"
  },
  "language_info": {
   "codemirror_mode": {
    "name": "ipython",
    "version": 3
   },
   "file_extension": ".py",
   "mimetype": "text/x-python",
   "name": "python",
   "nbconvert_exporter": "python",
   "pygments_lexer": "ipython3",
   "version": "3.8.1"
  }
 },
 "nbformat": 4,
 "nbformat_minor": 2
}
